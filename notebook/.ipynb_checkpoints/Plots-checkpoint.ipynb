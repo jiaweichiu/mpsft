{
 "cells": [
  {
   "cell_type": "code",
   "execution_count": 1,
   "metadata": {
    "collapsed": true
   },
   "outputs": [],
   "source": [
    "import pandas as pd\n",
    "import matplotlib.pyplot as plt\n",
    "import seaborn as sns\n",
    "import numpy as np"
   ]
  },
  {
   "cell_type": "code",
   "execution_count": 2,
   "metadata": {
    "collapsed": true
   },
   "outputs": [],
   "source": [
    "df = pd.read_csv('../src/demo1_main.tsv', sep='\\t')"
   ]
  },
  {
   "cell_type": "code",
   "execution_count": 9,
   "metadata": {},
   "outputs": [],
   "source": [
    "df2 = df.groupby('i').agg([np.mean, np.std])"
   ]
  },
  {
   "cell_type": "code",
   "execution_count": 10,
   "metadata": {},
   "outputs": [
    {
     "name": "stdout",
     "output_type": "stream",
     "text": [
      "     j              sigma          hit           hit_l1_err                \\\n",
      "  mean      std      mean  std    mean       std       mean           std   \n",
      "i                                                                           \n",
      "0  4.5  3.02765  0.001000  0.0  1023.9  0.316228   0.000008  1.843194e-07   \n",
      "1  4.5  3.02765  0.003162  0.0  1024.0  0.000000   0.000023  7.908901e-07   \n",
      "2  4.5  3.02765  0.010000  0.0  1024.0  0.000000   0.000074  3.372796e-06   \n",
      "3  4.5  3.02765  0.031623  0.0  1024.0  0.000000   0.000230  7.998089e-06   \n",
      "4  4.5  3.02765  0.100000  0.0  1024.0  0.000000   0.000742  2.053958e-05   \n",
      "5  4.5  3.02765  0.316228  0.0  1024.0  0.000000   0.002304  8.036611e-05   \n",
      "6  4.5  3.02765  1.000000  0.0  1024.0  0.000000   0.006849  1.999415e-04   \n",
      "\n",
      "  hit_l2_err                  ...    miss_l1_err           miss_l2_err  \\\n",
      "        mean           std    ...           mean       std        mean   \n",
      "i                             ...                                        \n",
      "0   0.000012  5.075567e-07    ...            NaN       NaN         NaN   \n",
      "1   0.000038  2.939073e-06    ...       0.000173  0.000122    0.000173   \n",
      "2   0.000123  1.187120e-05    ...       0.000092  0.000034    0.000101   \n",
      "3   0.000369  3.038919e-05    ...       0.000807  0.000653    0.001389   \n",
      "4   0.001242  8.598022e-05    ...       0.002317  0.001278    0.003746   \n",
      "5   0.003778  3.468880e-04    ...       0.007920  0.014201    0.022167   \n",
      "6   0.009910  3.497984e-04    ...       0.030414  0.011489    0.067574   \n",
      "\n",
      "                   l1_err                  l2_err                 max_err  \\\n",
      "        std          mean           std      mean           std      mean   \n",
      "i                                                                           \n",
      "0       NaN  4.583699e-07  7.541162e-08  0.000049  1.542423e-04  0.100103   \n",
      "1  0.000122  1.373971e-06  2.144994e-10  0.000002  1.677356e-08  0.000344   \n",
      "2  0.000043  4.344738e-06  1.018013e-09  0.000005  7.128246e-08  0.001147   \n",
      "3  0.001341  1.373939e-05  2.002471e-09  0.000017  2.796353e-07  0.004726   \n",
      "4  0.002470  4.345603e-05  3.538377e-09  0.000053  4.462445e-07  0.014798   \n",
      "5  0.056524  1.374186e-04  6.660030e-08  0.000189  7.530969e-05  0.107616   \n",
      "6  0.023718  4.347330e-04  2.293401e-07  0.000574  4.854865e-05  0.284208   \n",
      "\n",
      "             \n",
      "        std  \n",
      "i            \n",
      "0  0.316191  \n",
      "1  0.000085  \n",
      "2  0.000370  \n",
      "3  0.001908  \n",
      "4  0.003202  \n",
      "5  0.227397  \n",
      "6  0.126475  \n",
      "\n",
      "[7 rows x 22 columns]\n"
     ]
    }
   ],
   "source": [
    "print df2"
   ]
  },
  {
   "cell_type": "code",
   "execution_count": 71,
   "metadata": {},
   "outputs": [],
   "source": [
    "t1 = df2[[('sigma', 'mean'), ('l1_err', 'mean'), ('l1_err', 'std')]].values\n",
    "t2 = df2[[('sigma', 'mean'), ('l2_err', 'mean'), ('l2_err', 'std')]].values\n",
    "\n",
    "plt.figure()\n",
    "plt.errorbar(t1[:,0], t1[:,1], yerr=t1[:,2], marker='o', label='l1_err')\n",
    "#plt.errorbar(t2[:,0], t2[:,1], yerr=t2[:,2], marker='x', label='l2_err')\n",
    "\n",
    "plt.xscale('log')\n",
    "plt.yscale('log')\n",
    "plt.xlabel('sigma')\n",
    "plt.ylabel('error')\n",
    "plt.legend()\n",
    "plt.grid(b=True, which='major', color='w', linewidth=1.0)\n",
    "plt.grid(b=True, which='minor', color='w', linewidth=0.5)\n",
    "#plt.show()\n",
    "plt.savefig('../report/graph/noise.eps')"
   ]
  },
  {
   "cell_type": "code",
   "execution_count": 75,
   "metadata": {},
   "outputs": [
    {
     "name": "stdout",
     "output_type": "stream",
     "text": [
      "                            name  iterations    real_time     cpu_time  \\\n",
      "0       BM_Demo1/4194301/64_mean          23   30680500.0   30507300.0   \n",
      "1     BM_Demo1/4194301/64_stddev           0     594983.0     593290.0   \n",
      "2      BM_Demo1/4194301/128_mean          17   39632500.0   39456100.0   \n",
      "3    BM_Demo1/4194301/128_stddev           0     922422.0     917446.0   \n",
      "4      BM_Demo1/4194301/256_mean          12   54594600.0   54592600.0   \n",
      "5    BM_Demo1/4194301/256_stddev           0     905536.0     906086.0   \n",
      "6      BM_Demo1/4194301/512_mean           8   87401200.0   87344000.0   \n",
      "7    BM_Demo1/4194301/512_stddev           0    2624530.0    2629350.0   \n",
      "8     BM_Demo1/4194301/1024_mean           5  152277000.0  152247000.0   \n",
      "9   BM_Demo1/4194301/1024_stddev           0    2314970.0    2298880.0   \n",
      "10    BM_Demo1/4194301/2048_mean           2  276910000.0  276893000.0   \n",
      "11  BM_Demo1/4194301/2048_stddev           0    5253830.0    5252030.0   \n",
      "12    BM_Demo1/4194301/4096_mean           1  519355000.0  519311000.0   \n",
      "13  BM_Demo1/4194301/4096_stddev           0    9814700.0    9809820.0   \n",
      "\n",
      "   time_unit  bytes_per_second  items_per_second  label  error_occurred  \\\n",
      "0         ns               NaN               NaN    NaN             NaN   \n",
      "1         ns               NaN               NaN    NaN             NaN   \n",
      "2         ns               NaN               NaN    NaN             NaN   \n",
      "3         ns               NaN               NaN    NaN             NaN   \n",
      "4         ns               NaN               NaN    NaN             NaN   \n",
      "5         ns               NaN               NaN    NaN             NaN   \n",
      "6         ns               NaN               NaN    NaN             NaN   \n",
      "7         ns               NaN               NaN    NaN             NaN   \n",
      "8         ns               NaN               NaN    NaN             NaN   \n",
      "9         ns               NaN               NaN    NaN             NaN   \n",
      "10        ns               NaN               NaN    NaN             NaN   \n",
      "11        ns               NaN               NaN    NaN             NaN   \n",
      "12        ns               NaN               NaN    NaN             NaN   \n",
      "13        ns               NaN               NaN    NaN             NaN   \n",
      "\n",
      "    error_message  \n",
      "0             NaN  \n",
      "1             NaN  \n",
      "2             NaN  \n",
      "3             NaN  \n",
      "4             NaN  \n",
      "5             NaN  \n",
      "6             NaN  \n",
      "7             NaN  \n",
      "8             NaN  \n",
      "9             NaN  \n",
      "10            NaN  \n",
      "11            NaN  \n",
      "12            NaN  \n",
      "13            NaN  \n"
     ]
    }
   ],
   "source": [
    "# Running time plot. Run Google benchmarks and dump to csv file.\n",
    "df = pd.read_csv('../src/runtime.csv')\n",
    "print df"
   ]
  },
  {
   "cell_type": "code",
   "execution_count": 80,
   "metadata": {},
   "outputs": [],
   "source": [
    "y = df['cpu_time']\n",
    "mu = y[0::2].values\n",
    "sd = y[1::2].values\n",
    "s = 2**np.arange(6, 13)\n",
    "fftw_y = 241538333\n",
    "\n",
    "plt.figure()\n",
    "plt.errorbar(s, mu, yerr=sd, marker='o', label='MPSFT')\n",
    "plt.plot([np.min(s), np.max(s)], [fftw_y, fftw_y], label='FFTW')\n",
    "plt.xscale('log')\n",
    "plt.yscale('log')\n",
    "\n",
    "#plt.show()\n",
    "plt.grid(b=True, which='major', color='w', linewidth=1.0)\n",
    "plt.grid(b=True, which='minor', color='w', linewidth=0.5)\n",
    "plt.legend()\n",
    "#plt.show()\n",
    "plt.savefig('../report/graph/runtime.eps')"
   ]
  },
  {
   "cell_type": "code",
   "execution_count": 86,
   "metadata": {},
   "outputs": [
    {
     "name": "stdout",
     "output_type": "stream",
     "text": [
      "152247000.0 241538333 276893000.0\n"
     ]
    },
    {
     "data": {
      "text/plain": [
       "1757.5520192545287"
      ]
     },
     "execution_count": 86,
     "metadata": {},
     "output_type": "execute_result"
    }
   ],
   "source": [
    "# Find crossover point.\n",
    "print mu[-3], fftw_y, mu[-2]\n",
    "(fftw_y - mu[-3]) / (mu[-2] - mu[-3]) * (s[-2]-s[-3]) + s[-3]"
   ]
  },
  {
   "cell_type": "code",
   "execution_count": null,
   "metadata": {
    "collapsed": true
   },
   "outputs": [],
   "source": []
  }
 ],
 "metadata": {
  "kernelspec": {
   "display_name": "Python 2",
   "language": "python",
   "name": "python2"
  },
  "language_info": {
   "codemirror_mode": {
    "name": "ipython",
    "version": 2
   },
   "file_extension": ".py",
   "mimetype": "text/x-python",
   "name": "python",
   "nbconvert_exporter": "python",
   "pygments_lexer": "ipython2",
   "version": "2.7.12"
  }
 },
 "nbformat": 4,
 "nbformat_minor": 2
}
