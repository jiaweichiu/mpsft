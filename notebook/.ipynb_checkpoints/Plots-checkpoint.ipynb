{
 "cells": [
  {
   "cell_type": "code",
   "execution_count": 1,
   "metadata": {
    "collapsed": true
   },
   "outputs": [],
   "source": [
    "import pandas as pd\n",
    "import matplotlib.pyplot as plt\n",
    "import seaborn as sns\n",
    "import numpy as np"
   ]
  },
  {
   "cell_type": "code",
   "execution_count": 2,
   "metadata": {
    "collapsed": true
   },
   "outputs": [],
   "source": [
    "df = pd.read_csv('../src/demo1_main.tsv', sep='\\t')"
   ]
  },
  {
   "cell_type": "code",
   "execution_count": 9,
   "metadata": {},
   "outputs": [],
   "source": [
    "df2 = df.groupby('i').agg([np.mean, np.std])"
   ]
  },
  {
   "cell_type": "code",
   "execution_count": 10,
   "metadata": {},
   "outputs": [
    {
     "name": "stdout",
     "output_type": "stream",
     "text": [
      "     j              sigma          hit           hit_l1_err                \\\n",
      "  mean      std      mean  std    mean       std       mean           std   \n",
      "i                                                                           \n",
      "0  4.5  3.02765  0.001000  0.0  1023.9  0.316228   0.000008  1.843194e-07   \n",
      "1  4.5  3.02765  0.003162  0.0  1024.0  0.000000   0.000023  7.908901e-07   \n",
      "2  4.5  3.02765  0.010000  0.0  1024.0  0.000000   0.000074  3.372796e-06   \n",
      "3  4.5  3.02765  0.031623  0.0  1024.0  0.000000   0.000230  7.998089e-06   \n",
      "4  4.5  3.02765  0.100000  0.0  1024.0  0.000000   0.000742  2.053958e-05   \n",
      "5  4.5  3.02765  0.316228  0.0  1024.0  0.000000   0.002304  8.036611e-05   \n",
      "6  4.5  3.02765  1.000000  0.0  1024.0  0.000000   0.006849  1.999415e-04   \n",
      "\n",
      "  hit_l2_err                  ...    miss_l1_err           miss_l2_err  \\\n",
      "        mean           std    ...           mean       std        mean   \n",
      "i                             ...                                        \n",
      "0   0.000012  5.075567e-07    ...            NaN       NaN         NaN   \n",
      "1   0.000038  2.939073e-06    ...       0.000173  0.000122    0.000173   \n",
      "2   0.000123  1.187120e-05    ...       0.000092  0.000034    0.000101   \n",
      "3   0.000369  3.038919e-05    ...       0.000807  0.000653    0.001389   \n",
      "4   0.001242  8.598022e-05    ...       0.002317  0.001278    0.003746   \n",
      "5   0.003778  3.468880e-04    ...       0.007920  0.014201    0.022167   \n",
      "6   0.009910  3.497984e-04    ...       0.030414  0.011489    0.067574   \n",
      "\n",
      "                   l1_err                  l2_err                 max_err  \\\n",
      "        std          mean           std      mean           std      mean   \n",
      "i                                                                           \n",
      "0       NaN  4.583699e-07  7.541162e-08  0.000049  1.542423e-04  0.100103   \n",
      "1  0.000122  1.373971e-06  2.144994e-10  0.000002  1.677356e-08  0.000344   \n",
      "2  0.000043  4.344738e-06  1.018013e-09  0.000005  7.128246e-08  0.001147   \n",
      "3  0.001341  1.373939e-05  2.002471e-09  0.000017  2.796353e-07  0.004726   \n",
      "4  0.002470  4.345603e-05  3.538377e-09  0.000053  4.462445e-07  0.014798   \n",
      "5  0.056524  1.374186e-04  6.660030e-08  0.000189  7.530969e-05  0.107616   \n",
      "6  0.023718  4.347330e-04  2.293401e-07  0.000574  4.854865e-05  0.284208   \n",
      "\n",
      "             \n",
      "        std  \n",
      "i            \n",
      "0  0.316191  \n",
      "1  0.000085  \n",
      "2  0.000370  \n",
      "3  0.001908  \n",
      "4  0.003202  \n",
      "5  0.227397  \n",
      "6  0.126475  \n",
      "\n",
      "[7 rows x 22 columns]\n"
     ]
    }
   ],
   "source": [
    "print df2"
   ]
  },
  {
   "cell_type": "code",
   "execution_count": 37,
   "metadata": {},
   "outputs": [
    {
     "data": {
      "image/png": "[encoded data removed]",
      "text/plain": [
       "<matplotlib.figure.Figure at 0x7fc8856d7c90>"
      ]
     },
     "metadata": {},
     "output_type": "display_data"
    }
   ],
   "source": [
    "t1 = df2[[('sigma', 'mean'), ('l1_err', 'mean'), ('l1_err', 'std')]].values\n",
    "t2 = df2[[('sigma', 'mean'), ('l2_err', 'mean'), ('l2_err', 'std')]].values\n",
    "\n",
    "plt.errorbar(t1[:,0], t1[:,1], yerr=t1[:,2], marker='x', label='l1_err')\n",
    "\n",
    "plt.xscale('log')\n",
    "plt.yscale('log')\n",
    "plt.xlabel('sigma')\n",
    "plt.ylabel('error')\n",
    "plt.legend()\n",
    "plt.show()\n",
    "#plt.savefig('../report/graph/noise.eps')"
   ]
  },
  {
   "cell_type": "code",
   "execution_count": null,
   "metadata": {
    "collapsed": true
   },
   "outputs": [],
   "source": []
  }
 ],
 "metadata": {
  "kernelspec": {
   "display_name": "Python 2",
   "language": "python",
   "name": "python2"
  },
  "language_info": {
   "codemirror_mode": {
    "name": "ipython",
    "version": 2
   },
   "file_extension": ".py",
   "mimetype": "text/x-python",
   "name": "python",
   "nbconvert_exporter": "python",
   "pygments_lexer": "ipython2",
   "version": "2.7.12"
  }
 },
 "nbformat": 4,
 "nbformat_minor": 2
}
