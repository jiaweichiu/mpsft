{
 "cells": [
  {
   "cell_type": "markdown",
   "metadata": {},
   "source": [
    "Let $p\\in [n]$ be the mode we want to identify. Assume mode isolation, i.e., there is only one big mode. Say $$|\\hat{x}_p| \\gg \\max_{k\\neq p}|\\hat{x}_k|.$$\n",
    "\n",
    "The associated frequency we want to identify is $\\theta:=p/n$.\n",
    "\n",
    "Pick a random modulation $a$ in frequency domain. This is needed to make the noise components cancel away. Say $$\\hat{y}_k=\\hat{x}_k e^{2\\pi i a k / n}.$$\n",
    "\n",
    "Binning in its simplest form is a sum of all the coefficients in the bin. Say\n",
    "$$U_a = \\sum_k \\hat{y}_k = \\hat{x}_p e^{2\\pi i a \\theta} + \\sum_{k\\neq p} \\hat{x}_k e^{2\\pi i a k/n}.$$"
   ]
  },
  {
   "cell_type": "markdown",
   "metadata": {},
   "source": [
    "In the absence of noise, then $$U_a = \\hat{x}_p e^{2\\pi i a \\theta}.$$\n",
    "\n",
    "This means\n",
    "$$\\frac{U_{a+1}}{U_a} = \\frac{\\hat{x}_p e^{2\\pi i (a+1)\\theta} }{\\hat{x}_p e^{2\\pi i a\\theta} }=e^{2\\pi i \\theta}.$$\n",
    "\n",
    "Hence, we recover $\\theta$ as $$\\theta = \\frac{1}{2\\pi} \\arg \\left( \\frac{U_{a+1}}{U_a} \\right).$$"
   ]
  },
  {
   "cell_type": "markdown",
   "metadata": {},
   "source": [
    "Consider noise and the perturbation it makes to $U_a$: $$U_a -\\hat{x}_p e^{2\\pi i a \\theta} = \\sum_{k\\neq p} \\hat{x}_k e^{2\\pi i a k/n}.$$\n",
    "\n",
    "Define the error $E_a$ as $$E_a := e^{-2\\pi i a \\theta} U_a - \\hat{x}_p = \\sum_{k\\neq p} \\hat{x}_k e^{2\\pi i a (k-p)/n}.$$\n",
    "\n",
    "Clearly, $\\mathbb{E} E_a = 0$ and $$\\mathbb{E} |E_a|^2 = \\sum_{k\\neq p} |\\hat{x}_k|^2.$$"
   ]
  },
  {
   "cell_type": "markdown",
   "metadata": {},
   "source": [
    "Of course, $U_a = e^{2\\pi i a \\theta}(E_a + \\hat{x}_p)$, so\n",
    "$$\\frac{U_{a+1}}{U_a} = \\frac{\\hat{x}_p e^{2\\pi i (a+1)\\theta} + e^{2\\pi i (a+1) \\theta} E_{a+1}}{\\hat{x}_p e^{2\\pi i a\\theta} + e^{2\\pi i a \\theta} E_a}.$$"
   ]
  },
  {
   "cell_type": "markdown",
   "metadata": {},
   "source": [
    "What we need is that $|E_{a+1}| \\ll |\\hat{x}_p|$. In other words, we want\n",
    "$$\\sqrt{\\sum_{k\\neq p} |\\hat{x}_k|^2} \\ll |\\hat{x}_p|.$$"
   ]
  },
  {
   "cell_type": "code",
   "execution_count": 1,
   "metadata": {
    "collapsed": true
   },
   "outputs": [],
   "source": [
    "import numpy as np\n",
    "import matplotlib.pyplot as plt\n",
    "import seaborn as sns\n",
    "import multiprocessing"
   ]
  },
  {
   "cell_type": "markdown",
   "metadata": {},
   "source": [
    "# Noiseless estimate\n",
    "\n",
    "Assume we have the solution $\\hat{x}$. Randomly modulate. Give it very little noise and see that we can get pretty close to the solution."
   ]
  },
  {
   "cell_type": "code",
   "execution_count": 28,
   "metadata": {
    "collapsed": true
   },
   "outputs": [],
   "source": [
    "# Some basic utilities.\n",
    "# Data is bundled as a 2-tuple (xh, idx).\n",
    "\n",
    "def modulate(data, a):\n",
    "    \"\"\"Helper. Assume idx=np.arange(n). Modulate components.\"\"\"\n",
    "    xh, idx = data\n",
    "    n = len(xh)\n",
    "    tmp = np.mod(a * idx, n).astype(float) / float(n)\n",
    "    return xh * np.exp(2.0 * np.pi * 1j * tmp)\n",
    "\n",
    "\n",
    "def compute_snr(data, p):\n",
    "    \"\"\"Compute SNR.\"\"\"\n",
    "    xh = data[0]\n",
    "    tmp = np.abs(xh)  # xh=data[0].\n",
    "    tmp = tmp * tmp\n",
    "    tmp[p] = 0\n",
    "    return np.abs(xh[p]) / np.sqrt(np.sum(tmp))\n",
    "\n",
    "\n",
    "def setup(n, p, snr):\n",
    "    \"\"\"Return xhat with the desired SNR. Also return idx.\"\"\"\n",
    "    xh = np.random.randn(n) + 1j * np.random.randn(n)\n",
    "    xh[p] = 0\n",
    "    z = np.sqrt(np.sum(np.abs(xh) ** 2))\n",
    "    xh /= (snr * z)\n",
    "    xh[p] = 1.0\n",
    "    return xh, np.arange(n)\n",
    "\n",
    "\n",
    "def measure(data, a):\n",
    "    \"\"\"Simulate the binned coefficients.\"\"\"\n",
    "    return np.sum(modulate(data, a))\n",
    "\n",
    "\n",
    "def new_pool():\n",
    "    \"\"\"Create new pool. Remember to close or you will have memory leaks!\"\"\"\n",
    "    pool = multiprocessing.Pool(multiprocessing.cpu_count() - 1)\n",
    "    return pool"
   ]
  },
  {
   "cell_type": "code",
   "execution_count": 29,
   "metadata": {
    "collapsed": true
   },
   "outputs": [],
   "source": [
    "def estimator_simple(data):\n",
    "    \"\"\"Return estimated theta. Assume idx=arange(n). Note theta is in [0,1).\"\"\"\n",
    "    xh, idx = data\n",
    "    n = len(xh)\n",
    "    a = np.random.randint(n)\n",
    "    ua0 = measure(data, a)\n",
    "    ua1 = measure(data, a + 1)\n",
    "    theta = np.angle(ua1 / ua0) / (2 * np.pi)\n",
    "    return np.mod(theta, 1.0)"
   ]
  },
  {
   "cell_type": "code",
   "execution_count": 31,
   "metadata": {},
   "outputs": [
    {
     "name": "stdout",
     "output_type": "stream",
     "text": [
      "SNR=15.000000\n",
      "Theta=0.225428\n",
      "Theta estimate=0.228659\n"
     ]
    }
   ],
   "source": [
    "def experiment1(estimator):\n",
    "    \"\"\"\n",
    "    This experiment uses theta estimate function directly and does one trial.\n",
    "    \"\"\"\n",
    "    n = 1109  # Prime. Not really needed.\n",
    "    p = 250\n",
    "    snr = 15\n",
    "    theta = float(p) / n\n",
    "    data = setup(n, p, snr)\n",
    "    print 'SNR=%f' % compute_snr(data, p)\n",
    "    print 'Theta=%f' % theta\n",
    "    print 'Theta estimate=%f' % estimator(data)\n",
    "\n",
    "    \n",
    "experiment1(estimator_simple)"
   ]
  },
  {
   "cell_type": "markdown",
   "metadata": {},
   "source": [
    "# Finding which half\n",
    "\n",
    "Below, we use the noiseless estimate to guess which half the frequency is in. We repeat many many times, say 10000, to estimate the actual probability of guessing this right."
   ]
  },
  {
   "cell_type": "code",
   "execution_count": 33,
   "metadata": {},
   "outputs": [
    {
     "name": "stdout",
     "output_type": "stream",
     "text": [
      "SNR=0.900000\n"
     ]
    },
    {
     "data": {
      "image/png": "[encoded data removed]",
      "text/plain": [
       "<matplotlib.figure.Figure at 0x7ff774e46850>"
      ]
     },
     "metadata": {},
     "output_type": "display_data"
    },
    {
     "name": "stdout",
     "output_type": "stream",
     "text": [
      "Probability of getting half right: 0.709820\n"
     ]
    }
   ],
   "source": [
    "def experiment2(estimator):\n",
    "    \"\"\"Experiment tries to see how often we get the first half right.\"\"\"\n",
    "    n = 1109\n",
    "    p = 400  # In first half.\n",
    "    snr = 0.9\n",
    "    trials = 100000\n",
    "    \n",
    "    data = setup(n, p, snr)\n",
    "    print 'SNR=%f' % compute_snr(data, p)\n",
    "    count = 0\n",
    "    pool = new_pool()  # Some brute force!\n",
    "    results = np.array(pool.map(estimator, [data] * trials))\n",
    "    pool.close()\n",
    "    pool.join()\n",
    "    sns.distplot(results); plt.show()\n",
    "\n",
    "    # We know this is the first half. How often would we get this right?\n",
    "    count = np.sum(results < 0.5)\n",
    "    prob = float(count) / len(results)\n",
    "    print 'Probability of getting half right: %f' % prob\n",
    "    \n",
    "\n",
    "experiment2(estimator_simple)"
   ]
  },
  {
   "cell_type": "markdown",
   "metadata": {},
   "source": [
    "# Probability amplification\n",
    "\n",
    "Probability of getting the right half is only about 0.66. However we can amplify this a lot, cheaply.\n",
    "\n",
    "Recall Hoeffding's inequality. Let $X_1,\\ldots,X_m$ be iid observations such that $\\mathbb{E} X_i=\\mu$ and $0\\leq X_i \\leq 1$. Then for any $\\epsilon>0$, we have $$\\Pr(|\\bar{X} - \\mu|\\geq \\epsilon) \\leq 2\\exp(-2m\\epsilon^2).$$\n",
    "\n",
    "In our case, say $X_i$ is indicator on $i$-th measurement giving the right half. Say $\\bar{X} = 0.7$. Then the probability of guessing wrongly with $m$ measurements is, with $\\epsilon=0.2$, bounded by\n",
    "$$2\\exp(-2m (0.04)).$$\n",
    "\n",
    "This failure probability decreases exponentially with $m$ but the factor of $\\epsilon^2$ is very punishing. If your single measurement failure probability is $0.6$, then $\\epsilon^2 = 0.1^2 = 0.01$. This means you need $100$ measurements (!) just to decrease the failure probability by $e^{-2}\\simeq 0.14$. Horrible. On the other hand, if your single measurement failure probability is $0.7$, then $\\epsilon^2 = 0.2^2 = 0.04$ which means you need $1/4$ as many measurements.\n",
    "\n",
    "Of course, boosting single measurement failure probability comes at a cost. Some simple optimization would be needed here to find good parameters."
   ]
  },
  {
   "cell_type": "code",
   "execution_count": 34,
   "metadata": {
    "collapsed": true
   },
   "outputs": [],
   "source": [
    "def half_estimate(data, m, estimator):\n",
    "    \"\"\"Guess which half theta is in. Use m measurements.\"\"\"\n",
    "    xh, idx = data\n",
    "    n = len(xh)\n",
    "    results = []\n",
    "    for i in xrange(m):\n",
    "        results.append(estimator(data))\n",
    "    results = np.mod(results, 1.0)\n",
    "    count = np.sum(results > 0.5)\n",
    "    return count * 2 > m  # Voting. True if we think it is second half."
   ]
  },
  {
   "cell_type": "code",
   "execution_count": 68,
   "metadata": {},
   "outputs": [
    {
     "name": "stdout",
     "output_type": "stream",
     "text": [
      "Chance of getting half wrong with 30 measurements: 2.100000e-03\n"
     ]
    }
   ],
   "source": [
    "def experiment3_helper(input):\n",
    "    return half_estimate(*input)\n",
    "\n",
    "\n",
    "def experiment3(estimator):\n",
    "    \"\"\"Just try to get first bit. Repeat many times to see how good the probability amplification is.\"\"\"\n",
    "    n = 1109\n",
    "    p = 400  # In first half.\n",
    "    snr = 0.9\n",
    "    trials = 10000\n",
    "    m = 30\n",
    "    data = setup(n, p, snr)\n",
    "    \n",
    "    pool = new_pool()  # Some brute force!\n",
    "    results = np.array(pool.map(experiment3_helper, [(data, m, estimator)] * trials))\n",
    "    pool.close()\n",
    "    pool.join()\n",
    "    prob = float(np.sum(results)) / trials\n",
    "    print 'Chance of getting half wrong with %d measurements: %e' % (m, prob)\n",
    "\n",
    "\n",
    "experiment3(estimator_simple)"
   ]
  },
  {
   "cell_type": "markdown",
   "metadata": {
    "collapsed": true
   },
   "source": [
    "# Multiscale\n",
    "\n",
    "Extend the above to find each bit of the frequency. To do so, we repeatedly dilate the frequencies. We assume a prime $n$ to make this easier."
   ]
  },
  {
   "cell_type": "code",
   "execution_count": 40,
   "metadata": {
    "collapsed": true
   },
   "outputs": [],
   "source": [
    "def dilate(xh):\n",
    "    \"\"\"Returns xh with frequencies dilated.\"\"\"\n",
    "    n = len(xh)\n",
    "    out = np.zeros(n, dtype=xh.dtype)\n",
    "    for i in xrange(n):\n",
    "        out[(i * 2) % n] = xh[i]\n",
    "    return np.array(out)\n",
    "    \n",
    "\n",
    "def recover_mode(n, bits):\n",
    "    ans = 0\n",
    "    b = len(bits)\n",
    "    for i in xrange(b):\n",
    "        if bits[i]:\n",
    "            ans += 2**(-(i + 1))\n",
    "    # Get us to middle of the bucket.\n",
    "    # Basically, if we get 0.1011, we pretend ans is 0.1011100000000.\n",
    "    ans += 2 ** (-(b + 1))\n",
    "    ans = int(np.round(ans * n))\n",
    "    return ans\n",
    "\n",
    "\n",
    "def get_mode_dilation(data, m, b, estimator):\n",
    "    \"\"\"Compute b number of bits. Each bit uses m measurements.\"\"\"\n",
    "    xh, idx = data\n",
    "    results = []\n",
    "    for i in xrange(b):\n",
    "        results.append(half_estimate((xh, idx), m, estimator))\n",
    "        xh = dilate(xh)\n",
    "    return recover_mode(len(xh), results)"
   ]
  },
  {
   "cell_type": "code",
   "execution_count": 41,
   "metadata": {},
   "outputs": [
    {
     "name": "stdout",
     "output_type": "stream",
     "text": [
      "Probability of getting mode location exactly right = 0.655200\n"
     ]
    }
   ],
   "source": [
    "def experiment4_helper(input):\n",
    "    return get_mode_dilation(*input)\n",
    "\n",
    "\n",
    "def experiment4(estimator):\n",
    "    \"\"\"Check how many times we get mode location exactly right.\"\"\"\n",
    "    n = 1109\n",
    "    p = 400  # In first half.\n",
    "    snr = 0.9\n",
    "    trials = 5000\n",
    "    m = 30\n",
    "    b = int(np.floor(np.log2(n))) + 1\n",
    "    data = setup(n, p, snr)\n",
    "    pool = new_pool()  # Some brute force!\n",
    "    results = np.array(pool.map(experiment4_helper, [(data, m, b, estimator)] * trials))\n",
    "    pool.close()\n",
    "    pool.join()\n",
    "    count = np.sum(results == p)\n",
    "    prob = float(count) / trials\n",
    "    print 'Probability of getting mode location exactly right = %f' % prob\n",
    "\n",
    "\n",
    "experiment4(estimator_simple)"
   ]
  },
  {
   "cell_type": "markdown",
   "metadata": {},
   "source": [
    "Chance of getting the mode location exactly right is around $0.65$ which is decent.\n",
    "\n",
    "However, it looks bad considering that for the first bit, we know we have a very high chance of getting it right. Recall failure probability is $\\ll 0.05$ due to the probability amplification. We would expect to be able to union bound over $b$ levels. However, it doesn't work that way. When dilated, some frequency might be close to the decision edges of $0$ and $0.5$ such that any small perturbation would lead to that bit being wrong.\n",
    "\n",
    "Let $\\theta=400/1109\\simeq 0.36$. And $2\\theta\\simeq 0.72$, which is ok, quite far away from $0.5$. And $4\\theta\\simeq 0.44$. This one is not good. It is really close to $0.5$. Some other dangerous bits are $32\\theta \\simeq 0.54$ and $64 \\theta \\simeq 0.08$ and $2^{15} \\theta \\simeq 0.94$.\n",
    "\n",
    "For our actual application, this mode would be randomly shuffled such that we can define a small $\\Delta$ and ensure that with good probability, $\\theta,2\\theta,4\\theta,\\ldots$ are all at least $\\Delta$ away from the decision boundaries of $0$ and $0.5$, and $\\Delta \\sim \\frac{1}{B} \\frac{1}{ |\\hat{x}_p| } \\sqrt{\\sum_{k\\neq p} |\\hat{x}_k|^2}$ where $B$ is number of bins."
   ]
  },
  {
   "cell_type": "markdown",
   "metadata": {},
   "source": [
    "# Multiscale attempt #2\n",
    "\n",
    "Earlier, we dilate $\\hat{x}$. Instead of doing that, we can just work with a different modulation. Recall $$U_a \\simeq \\hat{x}_p e^{2\\pi i a\\theta}$$ where $\\theta=p/n$ is what we want to identify."
   ]
  },
  {
   "cell_type": "markdown",
   "metadata": {},
   "source": [
    "In the past, we do $U_a,U_{a+1}$ to get which half $\\theta$ is in."
   ]
  },
  {
   "cell_type": "markdown",
   "metadata": {},
   "source": [
    "See that $$U_{a+2} \\simeq \\hat{x}_p e^{2\\pi i (a+2)\\theta}$$\n",
    "such that $U_{a+2}/U_a \\simeq e^{2\\pi i (2\\theta)}$. So this can give us the second bit of $\\theta$.\n",
    "\n",
    "In other words, we need the following modulations in frequency domain (or translates in time domain): $a, a+1, a+2, a+4, a+8, a+16, a+32, \\ldots$."
   ]
  },
  {
   "cell_type": "code",
   "execution_count": 46,
   "metadata": {
    "collapsed": true
   },
   "outputs": [],
   "source": [
    "def bits_estimator_simple(data, b):\n",
    "    \"\"\"Return b half estimates. Note that no estimator is needed. We use simple ratios.\"\"\"\n",
    "    n = len(data[0])\n",
    "    a = np.random.randint(n)\n",
    "    ua0 = measure(data, a)\n",
    "    results = []\n",
    "    for i in xrange(b):\n",
    "        ua1 = measure(data, (a + 2 ** i) % n)\n",
    "        tmp = ua1 / ua0\n",
    "        # First half means imag component is >=0. Add true if in second half.\n",
    "        results.append(np.imag(tmp) < 0)\n",
    "    return results\n",
    "\n",
    "\n",
    "def bits_estimator_combined(data, m, b, bits_estimator):\n",
    "    \"\"\"Use bits_estimator to get b bits. Repeat m times. Do voting.\"\"\"\n",
    "    results = []\n",
    "    for i in xrange(m):\n",
    "        # For each random modulation a, we will attempt to get b bits.\n",
    "        # There are m of these random modulations.\n",
    "        results.append(bits_estimator(data, b))\n",
    "    results = np.array(results)\n",
    "    results = np.sum(results, axis=0)\n",
    "    return results * 2 > m"
   ]
  },
  {
   "cell_type": "code",
   "execution_count": 48,
   "metadata": {},
   "outputs": [
    {
     "name": "stdout",
     "output_type": "stream",
     "text": [
      "Probability of getting mode location exactly right = 0.687400\n"
     ]
    }
   ],
   "source": [
    "def experiment5_helper(input):\n",
    "    data, m, b, bits_estimator = input\n",
    "    xh = data[0]\n",
    "    return recover_mode(len(xh), bits_estimator_combined(data, m, b, bits_estimator))\n",
    "    \n",
    "\n",
    "def experiment5(bits_estimator):\n",
    "    \"\"\"Check how many times we get mode location exactly right.\"\"\"\n",
    "    n = 1109\n",
    "    p = 400  # In first half.\n",
    "    snr = 0.9\n",
    "    trials = 5000\n",
    "    m = 30\n",
    "    b = int(np.floor(np.log2(n))) + 1\n",
    "    data = setup(n, p, snr)\n",
    "    pool = new_pool()  # Some brute force!\n",
    "    results = np.array(pool.map(experiment5_helper, [(data, m, b, bits_estimator)] * trials))\n",
    "    pool.close()\n",
    "    pool.join()\n",
    "    count = np.sum(results == p)\n",
    "    prob = float(count) / trials\n",
    "    print 'Probability of getting mode location exactly right = %f' % prob\n",
    "\n",
    "\n",
    "experiment5(bits_estimator_simple)"
   ]
  },
  {
   "cell_type": "markdown",
   "metadata": {},
   "source": [
    "This is somewhat consistent with what we got earlier. The overall probability of getting the exact mode location right is $\\sim 0.65$. However, we do roughly half as much work because we use the same $a$ for different bits."
   ]
  },
  {
   "cell_type": "markdown",
   "metadata": {},
   "source": [
    "# Matrix pencil\n",
    "\n",
    "To identify a bit, we have used $U_a, U_{a+1}$. How about getting $U_{a-1}$ as well? As we will see somewhere else, computing $U_{a-1}$ is pretty cheap due to symmetry, so we might as well get it. Given $U_{a-1}, U_a, U_{a+1}$, what is a good way to get at the first bit / which half $\\theta$ is in?"
   ]
  },
  {
   "cell_type": "markdown",
   "metadata": {},
   "source": [
    "Form the matrix $A := \\frac{1}{2} \\left( \\begin{array}{ccc} U_a & U_{a-1} \\\\ U_{a+1} & U_a \\end{array} \\right)$."
   ]
  },
  {
   "cell_type": "markdown",
   "metadata": {},
   "source": [
    "Let $A_1$ be $A$ with bottom row removed and $A_2$ be $A$ with top row removed. Matrix pencil method says we want to compute the eigenvalues of $A_1^+ A_2$."
   ]
  },
  {
   "cell_type": "markdown",
   "metadata": {},
   "source": [
    "Before that, we want to denoise using SVD. Hopefully this improves our chance of getting the bit right.\n",
    "\n",
    "Compute SVD and truncate to rank $1$ since we expect only one mode. Say the truncated SVD is $\\sigma u v^H$. Let $v_1$ be $v$ with bottom row removed, i.e., the top number. Let $v_2$ be $v$ with top row removed, i.e., the bottom number. Then the eigenvalue we seek is the conjugate of $v_1^+ v_2$ which is equal to $v_1 \\bar{v}_2/|v_1|^2$."
   ]
  },
  {
   "cell_type": "markdown",
   "metadata": {},
   "source": [
    "# Finding which half with matrix pencil\n",
    "\n",
    "Recall that earlier, using simple ratios, the chance of getting the first half / first bit is about 0.7. Let's see if using matrix pencil can improve this."
   ]
  },
  {
   "cell_type": "code",
   "execution_count": 24,
   "metadata": {},
   "outputs": [
    {
     "name": "stdout",
     "output_type": "stream",
     "text": [
      "[ 9.80673965  5.77476038]\n",
      "(0.339518387858-0.347477093621j)\n"
     ]
    },
    {
     "data": {
      "text/plain": [
       "0.8731563041736512"
      ]
     },
     "execution_count": 24,
     "metadata": {},
     "output_type": "execute_result"
    }
   ],
   "source": [
    "def mp_helper(ua, ua1, ua2):\n",
    "    \"\"\"Returns angle given three sample points: 0, 1, -1 respectively.\"\"\"\n",
    "    mat = np.array([[ua, ua2], [ua1, ua]])\n",
    "    _, sigma, vh = np.linalg.svd(mat)\n",
    "    assert vh.shape == (2, 2)\n",
    "    vh = vh[0, :]  # Dominant vector.\n",
    "    v1 = vh[0]\n",
    "    v2 = vh[1]\n",
    "    w = v1 * np.conj(v2)\n",
    "    print sigma\n",
    "    #print vh\n",
    "    print w\n",
    "    theta = np.angle(w) / (2 * np.pi)\n",
    "    return np.mod(theta, 1.0)\n",
    "\n",
    "\n",
    "def estimator_mp(data):\n",
    "    \"\"\"\n",
    "    Return estimated theta. Assume idx=arange(n). Note theta is in [0,1).\n",
    "    \"\"\"\n",
    "    xh, idx = data\n",
    "    n = len(xh)\n",
    "    a = np.random.randint(n)\n",
    "    #a = 0\n",
    "    ua = measure(data, a)\n",
    "    ua1 = measure(data, a + 1)\n",
    "    ua2 = measure(data, a - 1)\n",
    "    return mp_helper(ua, ua1, ua2)\n",
    "\n",
    "\n",
    "#mp_helper(-15.3 - 5.2*1j, 8.0+3.0*1j, -1.5+3.5*1j)\n",
    "#mp_helper(-2.3+5.2*1j, -5.5-3.1*1j, 4.0+3.0*1j)\n",
    "mp_helper(2.3+5.2*1j, 5.5-3.1*1j, 4.0+3.0*1j)"
   ]
  },
  {
   "cell_type": "code",
   "execution_count": 60,
   "metadata": {},
   "outputs": [
    {
     "name": "stdout",
     "output_type": "stream",
     "text": [
      "SNR=15.000000\n",
      "Theta=0.225428\n",
      "Theta estimate=0.219705\n"
     ]
    }
   ],
   "source": [
    "experiment1(estimator_mp)"
   ]
  },
  {
   "cell_type": "code",
   "execution_count": 61,
   "metadata": {},
   "outputs": [
    {
     "name": "stdout",
     "output_type": "stream",
     "text": [
      "SNR=0.900000\n"
     ]
    },
    {
     "data": {
      "image/png": "[encoded data removed]",
      "text/plain": [
       "<matplotlib.figure.Figure at 0x7ff7758453d0>"
      ]
     },
     "metadata": {},
     "output_type": "display_data"
    },
    {
     "name": "stdout",
     "output_type": "stream",
     "text": [
      "Probability of getting half right: 0.800390\n"
     ]
    }
   ],
   "source": [
    "experiment2(estimator_mp)"
   ]
  },
  {
   "cell_type": "markdown",
   "metadata": {},
   "source": [
    "This looks considerably better than using the simple ratio! Previously, it is about 0.7. Now it is about 0.8!"
   ]
  },
  {
   "cell_type": "code",
   "execution_count": 69,
   "metadata": {},
   "outputs": [
    {
     "name": "stdout",
     "output_type": "stream",
     "text": [
      "Chance of getting half wrong with 30 measurements: 0.000000e+00\n"
     ]
    }
   ],
   "source": [
    "experiment3(estimator_mp)"
   ]
  },
  {
   "cell_type": "code",
   "execution_count": 63,
   "metadata": {},
   "outputs": [
    {
     "name": "stdout",
     "output_type": "stream",
     "text": [
      "Probability of getting mode location exactly right = 0.835000\n"
     ]
    }
   ],
   "source": [
    "experiment4(estimator_mp)"
   ]
  },
  {
   "cell_type": "markdown",
   "metadata": {},
   "source": [
    "Using the simple estimator, probability of getting the mode location exactly right is only $~0.65$. This is so much better."
   ]
  },
  {
   "cell_type": "code",
   "execution_count": 65,
   "metadata": {
    "collapsed": true
   },
   "outputs": [],
   "source": [
    "def bits_estimator_mp(data, b):\n",
    "    \"\"\"Return b half estimates. Note that no estimator is needed. We use simple ratios.\"\"\"\n",
    "    n = len(data[0])\n",
    "    a = np.random.randint(n)\n",
    "    ua = measure(data, a)\n",
    "    results = []\n",
    "    for i in xrange(b):\n",
    "        ua1 = measure(data, (a + 2 ** i) % n)\n",
    "        ua2 = measure(data, (a - 2 ** i) % n)\n",
    "        theta = mp_helper(ua, ua1, ua2)\n",
    "        results.append(theta > 0.5)\n",
    "    return results"
   ]
  },
  {
   "cell_type": "code",
   "execution_count": 67,
   "metadata": {},
   "outputs": [
    {
     "name": "stdout",
     "output_type": "stream",
     "text": [
      "Probability of getting mode location exactly right = 0.837800\n"
     ]
    }
   ],
   "source": [
    "experiment5(bits_estimator_mp)"
   ]
  },
  {
   "cell_type": "markdown",
   "metadata": {},
   "source": [
    "This probability is somewhat consistent with experiment4 where we repeatedly dilate $\\hat{x}$ instead of tweaking the modulation factors."
   ]
  }
 ],
 "metadata": {
  "kernelspec": {
   "display_name": "Python 2",
   "language": "python",
   "name": "python2"
  },
  "language_info": {
   "codemirror_mode": {
    "name": "ipython",
    "version": 2
   },
   "file_extension": ".py",
   "mimetype": "text/x-python",
   "name": "python",
   "nbconvert_exporter": "python",
   "pygments_lexer": "ipython2",
   "version": "2.7.12"
  }
 },
 "nbformat": 4,
 "nbformat_minor": 2
}
