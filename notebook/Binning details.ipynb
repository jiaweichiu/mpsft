{
 "cells": [
  {
   "cell_type": "markdown",
   "metadata": {
    "collapsed": true
   },
   "source": [
    "# Binning\n",
    "\n",
    "First, we talk about mode permutation and modulation. Second, we explain how to roughly halve the number of trigonometric operations using symmetry."
   ]
  },
  {
   "cell_type": "markdown",
   "metadata": {},
   "source": [
    "## Mode permutation and modulation\n",
    "\n",
    "Mode permutation/modulation parameters are $(a,b,c)$. Define $\\phi(k) = ak+b$.\n",
    "\n",
    "Original signal is $x$. After applying $(a,b,c)$ to $x$, we obtain another signal $y$ which satisfies:\n",
    "$$y_t = x_{at+c} e^{2\\pi i bt/N}$$\n",
    "and\n",
    "$$\\hat{y}_{\\phi(k)} = \\hat{x}_k e^{2\\pi i ck/N}.$$\n",
    "\n",
    "In other words, from $x$ to $y$, modes get shuffled by $(a,b)$ and modulated according to $c$."
   ]
  },
  {
   "cell_type": "markdown",
   "metadata": {},
   "source": [
    "Let $h(k) = \\lfloor \\phi(k)B/N\\rfloor$. In English, $h$ maps $k$ to its bin after applying the permutation $\\phi$. Equivalently, $h^{-1}(b)$ is the set of modes $k$ such that $\\phi(k)$ is in bin $b$.\n",
    "\n",
    "Define $b$-th bin coeffcient as\n",
    "$$Y_0^{b} = \\sum_{k \\in h^{-1}(b)} \\hat{y}_{\\phi(k)} = \\sum_{k\\in h^{-1}(b)} \\hat{x}_k e^{2\\pi i ck/n}.$$"
   ]
  },
  {
   "cell_type": "markdown",
   "metadata": {},
   "source": [
    "To reiterate, we are summing over modes that got permuted or shuffled into the $b$-th bin."
   ]
  },
  {
   "cell_type": "markdown",
   "metadata": {},
   "source": [
    "We will then translate $y$ in order to do mode identification using matrix pencil. This corresponds to random modulation on $\\hat{y}$."
   ]
  },
  {
   "cell_type": "markdown",
   "metadata": {},
   "source": [
    "## Translating $y$\n",
    "\n",
    "Define $y^{\\tau}$ as $y$ translated by $\\tau$, i.e., $y^{\\tau}_t = y_{t+\\tau}$. This leads to\n",
    "$$y^{\\tau}_t = x_{a(t+\\tau)+c} e^{2\\pi i b(t+\\tau)/N}$$\n",
    "and\n",
    "$$\\hat{y}_{\\phi(k)}^{\\tau} = \\hat{x}_k e^{2\\pi i ck/N} e^{2\\pi i \\phi(k) \\tau/N}.$$"
   ]
  },
  {
   "cell_type": "markdown",
   "metadata": {},
   "source": [
    "The $b$-th bin coefficient is\n",
    "$$U^b_{\\tau} = \\sum_{k\\in h^{-1}(b)} \\hat{y}^{\\tau}_{\\phi(k)} = \\sum_{k\\in h^{-1}(b)} \\hat{y}_{\\phi(k)} e^{2\\pi i \\tau \\phi(k)/N} = \\sum_{k \\text{ in bin } b } \\hat{y}_k e^{2\\pi i \\tau k/N}.$$"
   ]
  },
  {
   "cell_type": "markdown",
   "metadata": {},
   "source": [
    "Treat $Y^b_{\\tau}$ as a signal sampled at $\\tau$. For mode identification, we will do $\\tau= q,q\\pm 2^0, q\\pm 2^1, q\\pm 2^2, q\\pm 2^3,\\ldots$ for say $~30$ different random $q$'s."
   ]
  },
  {
   "cell_type": "markdown",
   "metadata": {},
   "source": [
    "## Window functions\n",
    "\n",
    "The above formula for $Y^b_{\\tau}$ is not accurate. We need to take into account the smoothed boxcar filter. Here's the more precise details."
   ]
  },
  {
   "cell_type": "markdown",
   "metadata": {},
   "source": [
    "Fix a $\\tau$. Let $P$ be support of the window. See notebook on filters for details. Here $P$ is just given to us.\n",
    "\n",
    "Assume $P$ is odd. For $-\\frac{P-1}{2}\\leq t \\leq \\frac{P-1}{2}$, we compute $$u_{t \\% P} = y^{\\tau}_t e^{-2\\pi i t/2B} W_t=x_{a(t+\\tau)+c} e^{2\\pi i b(t+\\tau)/N} e^{-2\\pi i t/2B} W_t.$$"
   ]
  },
  {
   "cell_type": "markdown",
   "metadata": {},
   "source": [
    "The extra $e^{-2\\pi i t/2B}$ factor is just a minor technical detail to slightly shift our filter so that we have nice bin boundaries. The value $W_t$ is mentioned in the notebook on boxcar filter."
   ]
  },
  {
   "cell_type": "markdown",
   "metadata": {},
   "source": [
    "Now, we have a $P$-vector $u$. We need to collapse it into a $B$ vector. Define\n",
    "$$v_t = \\sum_{j} u_{j B + t}.$$\n"
   ]
  },
  {
   "cell_type": "markdown",
   "metadata": {},
   "source": [
    "Finally, do standard $B$-point FFT to get $\\hat{v}$. This yields our bin coefficient\n",
    "$$U^b_{\\tau} = \\hat{v}_b.$$\n",
    "\n",
    "We will explain this signal processing in more details in a paper. It is kind of routine. Think of Poisson summation."
   ]
  },
  {
   "cell_type": "markdown",
   "metadata": {},
   "source": [
    "Equivalently, in the frequency domain, here's what is happening. We need to understand this also because we need to subtract away modes that are already found. This is the *most important* formula in this notebook:\n",
    "$$U^b_{\\tau} = \\sum_{k} \\hat{y}_{k} \\hat{W}_{b,k} e^{2\\pi i k\\tau/N}= \\sum_{k} \\hat{x}_k \\hat{W}_{b,\\phi(k)} e^{2\\pi i c k/N} e^{2\\pi i \\phi(k)\\tau/N}$$\n",
    "where $W_{b,k} = \\hat{W}\\left(\\frac{b}{B} + \\frac{1}{2B} - \\frac{k}{N}\\right)$."
   ]
  },
  {
   "cell_type": "markdown",
   "metadata": {},
   "source": [
    "Note that we are not being very accurate here. There is some loss in accuracy but for practical purpose, we can ignore this to simplify this document."
   ]
  },
  {
   "cell_type": "markdown",
   "metadata": {},
   "source": [
    "Let's see some action. We will compute the bin coefficients both from time domain and frequency domain, and check that they match up."
   ]
  },
  {
   "cell_type": "code",
   "execution_count": 6,
   "metadata": {},
   "outputs": [
    {
     "data": {
      "image/png": "[encoded data removed]",
      "text/plain": [
       "<matplotlib.figure.Figure at 0x7fcaf9f03590>"
      ]
     },
     "metadata": {},
     "output_type": "display_data"
    },
    {
     "name": "stdout",
     "output_type": "stream",
     "text": [
      "In bin 1\n",
      "BinInTime:\n",
      "[  4.85286256e-11 -4.68863837e-12j   1.12651546e+00 -1.08837926e-01j\n",
      "   2.95668115e-10 -2.85655631e-11j  -1.57935706e-10 +1.52577916e-11j\n",
      "   1.50076618e-10 -1.44997556e-11j]\n",
      "Specific coef: (1.12651545528-0.108837925515j)\n",
      "BinInFreq:\n",
      "xi=0.048422\n",
      "wf=0.565880\n",
      "[ 0.00000000+0.j          1.12651546-0.10883793j  0.00000000+0.j\n",
      "  0.00000000+0.j          0.00000000+0.j        ]\n",
      "(1.12651546116-0.108837926083j)\n",
      "Specific coef: (1.12651546116-0.108837926083j)\n"
     ]
    }
   ],
   "source": [
    "import numpy as np\n",
    "from scipy.special import erf\n",
    "import matplotlib.pyplot as plt\n",
    "\n",
    "class Window:\n",
    "    def __init__(self, N, B, delta=1e-6, kappa=1.0):\n",
    "        assert (N % 2) == 1\n",
    "        assert (B % 2) == 1\n",
    "        \n",
    "        self.N = N\n",
    "        self.B = B\n",
    "        self.delta = delta\n",
    "        self.kappa = kappa\n",
    "        \n",
    "        N2 = (N - 1) / 2\n",
    "        t = np.arange(N)\n",
    "        t_centered = np.arange(-N2, N2 + 1)\n",
    "        bins = self.which_bin(t)\n",
    "        \n",
    "        self.N2 = N2\n",
    "        self.t = t\n",
    "        self.t_centered = t_centered\n",
    "        self.bins = bins\n",
    "        \n",
    "        # Work on our filter.\n",
    "        w = (1 - 0.5 * kappa) / B  # Window width.\n",
    "        c_delta = -np.log(delta)\n",
    "        sigma_t = (2 * B * np.sqrt(2 * c_delta)) / (np.pi * kappa)\n",
    "        sigma_f = 1.0 / (2.0 * np.pi * sigma_t)\n",
    "        \n",
    "        self.w = w\n",
    "        self.c_delta = c_delta\n",
    "        self.sigma_t = sigma_t\n",
    "        self.sigma_f = sigma_f\n",
    "        \n",
    "        # P is size of support in time domain.\n",
    "        P = 2 * np.sqrt(2 * c_delta) * sigma_t + 1\n",
    "        tmp = int(np.ceil(P / B))\n",
    "        if (tmp % 2) == 0:\n",
    "            tmp += 1\n",
    "        P = tmp * B\n",
    "        assert (P % 2) == 1\n",
    "        assert (P % B) == 0\n",
    "        \n",
    "        P2 = (P - 1) / 2\n",
    "        s_centered = np.arange(-P2, P2 + 1)\n",
    "        tmp = s_centered / sigma_t\n",
    "        wt = np.exp(-0.5 * tmp * tmp) * (w * np.sinc(s_centered * w))  # This is centered.\n",
    "        \n",
    "        self.P = P\n",
    "        self.P2 = P2\n",
    "        self.s_centered = s_centered\n",
    "        self.wt = wt  # P-vector.        \n",
    "        self.N2 = N2\n",
    "        \n",
    "    def w_hat_func(self, b, k):\n",
    "        B = self.B\n",
    "        N = self.N\n",
    "        w = self.w\n",
    "        xi = (float(b) + 0.5) / B - float(k) / N\n",
    "        print 'xi=%f' % xi\n",
    "        tmp = 1.0 / (np.sqrt(2) * self.sigma_f)\n",
    "        wf = 0.5 * (erf((xi + 0.5 * w) * tmp) - erf((xi - 0.5 * w) * tmp))\n",
    "        return wf\n",
    " \n",
    "    def do_plot(self):\n",
    "        plt.plot(self.s_centered, self.wt)\n",
    "        plt.show()\n",
    "        \n",
    "    def bin_in_time(self, x, perm_a=1, perm_b=0, mod_c=0, tau=0):\n",
    "        # x is N-vector. Not centered.\n",
    "        N = self.N\n",
    "        B = self.B\n",
    "        s = self.s_centered\n",
    "        idx = np.arange(-self.P2, self.P2 + 1)\n",
    "        idx = np.mod(perm_a * (s + tau) + mod_c, N)  # Positive mod.\n",
    "        assert np.min(idx) >= 0\n",
    "        assert np.max(idx) < N\n",
    "        \n",
    "        exponent = np.mod(perm_b * (s + tau), N).astype(float) / N - (s.astype(float) / (2 * B))\n",
    "        tmp = x[idx] * self.wt * np.exp(2.0 * np.pi * 1j * exponent)\n",
    "        tmp = np.fft.ifftshift(tmp)  # 0-indexed, uncentered.\n",
    "        tmp = tmp.reshape((self.P / B, B))\n",
    "        tmp = np.sum(tmp, axis=0)  # Now we have a B-vector.\n",
    "        assert len(tmp) == B\n",
    "        bin_coef = np.fft.fft(tmp)\n",
    "        return bin_coef\n",
    "    \n",
    "    def bin_in_freq(self, list_k, list_coef, perm_a=1, perm_b=0, mod_c=0, tau=0):\n",
    "        N = self.N\n",
    "        B = self.B\n",
    "        out = np.zeros(B, dtype=np.complex)\n",
    "        for k, coef in zip(list_k, list_coef):\n",
    "            b = self.which_bin(k, perm_a, perm_b)\n",
    "            phi_k = np.mod(perm_a * k + perm_b, N)\n",
    "            exponent = float(np.mod(mod_c * k, N)) / N + float(np.mod(phi_k * tau, N)) / N\n",
    "            wf = self.w_hat_func(b, phi_k)\n",
    "            out[b] += coef * np.exp(2 * np.pi * 1j * exponent) * wf\n",
    "            print 'wf=%f' % wf\n",
    "        return np.array(out)\n",
    "    \n",
    "    def which_bin(self, k, perm_a=1, perm_b=0):\n",
    "        k = np.mod(k * perm_a + perm_b, self.N)\n",
    "        return np.floor(k * self.B / self.N).astype(int)\n",
    "\n",
    "        \n",
    "def experiment():\n",
    "    N = 1109  # Prime.\n",
    "    B = 5\n",
    "    window = Window(N, B)\n",
    "    window.do_plot()\n",
    "\n",
    "    # Try a single mode.\n",
    "    xh = np.zeros(N)  # Not centered.\n",
    "    k0 = 550\n",
    "    c0 = 2.0\n",
    "    xh[k0] = c0\n",
    "    x = N * np.fft.ifft(xh)  # Not centered.\n",
    "    \n",
    "    # Permutation, modulation. Please try different combinations.\n",
    "    perm_a = 3\n",
    "    perm_b = 847\n",
    "    mod_c = 45\n",
    "    tau = 106\n",
    "    \n",
    "    b = window.which_bin(k0, perm_a=perm_a, perm_b=perm_b)\n",
    "    print 'In bin %d' % b\n",
    "    \n",
    "    print 'BinInTime:'\n",
    "    bin_coef = window.bin_in_time(x, perm_a=perm_a, perm_b=perm_b, mod_c=mod_c, tau=tau)\n",
    "    print bin_coef\n",
    "    print 'Specific coef: ' + str(bin_coef[b])\n",
    "    \n",
    "    print 'BinInFreq:'\n",
    "    bin_coef2 = window.bin_in_freq([k0], [c0], perm_a=perm_a, perm_b=perm_b, mod_c=mod_c, tau=tau)\n",
    "    print bin_coef2\n",
    "    print bin_coef2[b]\n",
    "    print 'Specific coef: ' + str(bin_coef2[b])\n",
    "    \n",
    "    assert np.sum(np.abs(bin_coef2 - bin_coef)) < 1e-6\n",
    "\n",
    "\n",
    "experiment()\n"
   ]
  },
  {
   "cell_type": "markdown",
   "metadata": {},
   "source": [
    "# Even $B$ and $P$\n",
    "\n",
    "Above we assume that $B$ and $P$ are both odd. However, since we need to do FFT on $B$-vectors, it would be good for $B$ to contain just small factors, say 2 or 3 or 5. We need to sample at $P+1$ points from $-P/2$ to $P/2$ and take the average for the endpoints when merging into a $B$-vector, before doing a $B$-point FFT.\n",
    "\n",
    "(Personal note: Look for `mpfft-singlefile/mpfft3.cpp`.)"
   ]
  },
  {
   "cell_type": "markdown",
   "metadata": {},
   "source": [
    "# Optimization using symmetry\n",
    "\n",
    "The motivation is that binning takes up most of the time and we can halve the number of trignometric operations by exploiting symmetry.\n",
    "\n",
    "Recall that $x$ gets transformed into $y$ according to parameters $(a,b,c)$. This is the mode permutation and modulation. After we get $y$, we time-translate $y$ so as to perform mode identification on isolated modes in $y$. To summarize, this is the current setup: $$x \\rightarrow^{a,b,c} y \\rightarrow^{\\tau} y^{\\tau}.$$\n",
    "\n",
    "Say the $\\tau$'s we want are $\\tau=q\\pm s$. In other words, we want to evaluate\n",
    "$$U^{b}_{q\\pm s} = \\sum_k \\hat{y}_k W_{b,k} e^{2\\pi i (q\\pm s) k/N}.$$\n",
    "\n",
    "Define $z$ as $y$ translated by $q$, i.e., $z_t = y_{t+q}$. We know $\\hat{z}_k = \\hat{y}_k e^{2\\pi i k q/N}$.\n",
    "\n",
    "Define $z^R$ and $z^I$ as even and odd components of $z$, that is\n",
    "$$z_t^R = \\frac{1}{2}(z_t + \\text{conj}(z_{-t})); \\quad z_t^I = \\frac{1}{2i}(z_t - \\text{conj}(z_{-t})).$$"
   ]
  },
  {
   "cell_type": "markdown",
   "metadata": {},
   "source": [
    "Note that $z = z^R + i z^I$ and $\\hat{z}_k = \\hat{z}^R_k + i \\hat{z}^I_k$. Note that $z^R,z^I$ are even in the time domain, e.g., $z^I_t$ is the conjugate of $z^I_{-t}$. Also, $\\hat{z}^R_k = \\text{Re}(\\hat{z}_k)$ and $\\hat{z}^I_k = \\text{Im}(\\hat{z}_k)$ and they are all real."
   ]
  },
  {
   "cell_type": "markdown",
   "metadata": {},
   "source": [
    "Apply time-translation $s$ to $\\hat{z}^R$ and $\\hat{z}^I$. The new setup is $$x \\rightarrow^{a,b,c} y \\rightarrow^q z^{q} \\rightarrow^{R,I} z^R,z^I \\rightarrow^{s} z^{R,s}, z^{I,s}.$$"
   ]
  },
  {
   "cell_type": "markdown",
   "metadata": {},
   "source": [
    "## Combining bin coefficients\n",
    "\n",
    "Say we have bin coefficients for $z^{R},z^{I}$ for a single $\\tau$. We will show how to obtain the original bin coefficient for $y$ at $q\\pm \\tau$."
   ]
  },
  {
   "cell_type": "markdown",
   "metadata": {},
   "source": [
    "Fix a bin $b$. Fix a $\\tau>0$. Bin coefficient for $z^R$ would be $$U^{R,b}_s:=\\sum_k \\text{Re}(\\hat{z}_k) W_{b,k} e^{2\\pi i ks/N} = \\sum_k \\text{Re}(\\hat{y}_k e^{2\\pi i q k/N}) W_{b,k} e^{2\\pi i k s/N}.$$\n",
    "\n",
    "Similarly, bin coefficient for $z^I$ would be $$U^{I,b}:=\\sum_k \\text{Im}(\\hat{z}_k) W_{b,k} e^{2\\pi i k s/N} = \\sum_k \\text{Im}(\\hat{y}_k e^{2\\pi i q k/N}) W_{b,k} e^{2\\pi i ks/N}.$$\n",
    "\n",
    "Observe that we can derive the two bin coefficients from the above two as $$U^b_{q+s} = U^{R,b}_s + i U^{I,b}_s$$ and $$U^b_{q-s} = \\text{conj}(U^{R,b}_s) + i \\text{conj}(U^{I,b}_s).$$\n",
    "\n",
    "For the last equation above, we make use of the fact that $\\text{conj}(W_{b,k} e^{2\\pi i ks/N}) = W_{b,k} e^{-2\\pi i ks/N}$."
   ]
  },
  {
   "cell_type": "markdown",
   "metadata": {},
   "source": [
    "## BinInFreq efficiency\n",
    "\n",
    "For simplicity, say we found only one mode so far, and want to subtract its contribution from the bin coefficients.\n",
    "\n",
    "Imagine our set of $\\tau$'s look like $q\\pm s_{0},q\\pm s_1,\\ldots,q\\pm s_{M-1}$. So there are $2M$ different $\\tau$'s.\n",
    "\n",
    "Previously, for each $\\tau$, we will need to compute one sinusoid in $\\hat{y}_k = \\hat{x}_k e^{2\\pi i ck/N} e^{2\\pi i \\tau \\phi(k)/N}$. In total, we need to compute $2M$ sinusoids (for each mode that is already found).\n",
    "\n",
    "How about now? We want to compute $U^{R,b}_s,U^{I,b}_s$ with a single loop over $s$. First, we compute one sinusoid $e^{2\\pi i ck/N} e^{2\\pi i q\\phi(k)/N}$. This will be reused in the loop over different $s_i$ in evaluating $\\text{Re}(\\hat{y}_k e^{2\\pi i qk/N})$ and $\\text{Im}(\\hat{y}_k e^{2\\pi i qk/N})$. For each $s_i$, we just need to compute only one sinusoid $e^{2\\pi i ks/N}$. In total, we compute $M + 1$ sinusoids. This is roughly half as much work as before."
   ]
  },
  {
   "cell_type": "markdown",
   "metadata": {},
   "source": [
    "## BinInTime efficiency\n",
    "\n",
    "Recall we need to form a $P$-vector, then collapse it before doing $B$-point FFT. The work needed is mostly in forming this $P$-vector for each signal we want to bin. Previously, we bin $y$ for each $\\tau$. This means we would have $2M$ of these $P$-vectors. Each element of this $P$-vector is equal to $x_{a(t+\\tau)+c} e^{2\\pi i b(t+\\tau) /N}$ essentially. (We are ignoring that $-1/2B$ term.) In total, we need $2M P$ sinusoids."
   ]
  },
  {
   "cell_type": "markdown",
   "metadata": {},
   "source": [
    "The new method calls for binning of $z^R,z^I$ simultaneously at fake $\\tau=s$."
   ]
  },
  {
   "cell_type": "markdown",
   "metadata": {},
   "source": [
    "When binning $y$ at $\\tau$, we evaluate $y^{\\tau}_t e^{-2\\pi i t/2B} W_t$.\n",
    "\n",
    "So to bin $z^R$ at $s$, we evaluate $z^{R,s}_t e^{-2\\pi i t/2B} W_t = z^R_{t+s} e^{-2\\pi i t/2B} W_t$ which is equal to $$\\frac{1}{2}(z_{t+s} + \\text{conj}(z_{-(t+s)}))e^{-2\\pi i t/2B} W_t$$\n",
    "which is equal to\n",
    "$$\\frac{1}{2}(y_{q+t+s} + \\text{conj}(y_{q-(t+s)}))e^{-2\\pi i t/2B} W_t$$\n",
    "which is equal to $$\\frac{1}{2}(x_{a(q+t+s)+c}e^{2\\pi i b(q+t+s)/N} + \\text{conj}(x_{a(q-(t+s))+c}) e^{2\\pi i b(-q+(t+s))/N} )e^{-2\\pi i t/2B} W_t$$"
   ]
  },
  {
   "cell_type": "markdown",
   "metadata": {},
   "source": [
    "The term $e^{2\\pi i b q/N}$ can be evaluated just once. Per $s$ and per $t$, we just need one sinusoid $e^{2\\pi i b(t+s)/N} e^{-2\\pi i t/2B}$."
   ]
  },
  {
   "cell_type": "markdown",
   "metadata": {},
   "source": [
    "Now consider binning $z^I$ at $s$. Not surprisingly, we find that we can reuse the sinusoid used in computing $z^R$."
   ]
  },
  {
   "cell_type": "markdown",
   "metadata": {},
   "source": [
    "Per $s$ and per $t$ (there are $P$ of these), we will need to compute\n",
    "$$\\frac{1}{2i}(z_{t+s} - \\text{conj}(z_{-(t+s)}))e^{-2\\pi i t/2B} W_t$$ which will work out to\n",
    "$$\\frac{1}{2i}(x_{a(q+t+s)+c}e^{2\\pi i b(q+t+s)/N} - \\text{conj}(x_{a(q-(t+s))+c}) e^{2\\pi i b(-q+(t+s))/N} )e^{-2\\pi i t/2B} W_t.$$"
   ]
  },
  {
   "cell_type": "markdown",
   "metadata": {},
   "source": [
    "Just reuse our computation earlier for binning $z^R$.\n",
    "\n",
    "Hence, in total, we need about $MP + 1$ sinusoids which is half as much work as before."
   ]
  }
 ],
 "metadata": {
  "kernelspec": {
   "display_name": "Python 2",
   "language": "python",
   "name": "python2"
  },
  "language_info": {
   "codemirror_mode": {
    "name": "ipython",
    "version": 2
   },
   "file_extension": ".py",
   "mimetype": "text/x-python",
   "name": "python",
   "nbconvert_exporter": "python",
   "pygments_lexer": "ipython2",
   "version": "2.7.12"
  }
 },
 "nbformat": 4,
 "nbformat_minor": 2
}
