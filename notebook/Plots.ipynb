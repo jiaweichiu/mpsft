{
 "cells": [
  {
   "cell_type": "code",
   "execution_count": 125,
   "metadata": {
    "collapsed": true
   },
   "outputs": [],
   "source": [
    "import pandas as pd\n",
    "import matplotlib.pyplot as plt\n",
    "import seaborn as sns\n",
    "import numpy as np"
   ]
  },
  {
   "cell_type": "markdown",
   "metadata": {},
   "source": [
    "# Error and SNR"
   ]
  },
  {
   "cell_type": "code",
   "execution_count": 111,
   "metadata": {},
   "outputs": [],
   "source": [
    "df = pd.read_csv('../src/results/demo1_main.tsv', sep='\\t')"
   ]
  },
  {
   "cell_type": "code",
   "execution_count": 112,
   "metadata": {
    "collapsed": true
   },
   "outputs": [],
   "source": [
    "df2 = df.groupby('i').agg([np.mean, np.std])"
   ]
  },
  {
   "cell_type": "code",
   "execution_count": 10,
   "metadata": {},
   "outputs": [
    {
     "name": "stdout",
     "output_type": "stream",
     "text": [
      "     j              sigma          hit           hit_l1_err                \\\n",
      "  mean      std      mean  std    mean       std       mean           std   \n",
      "i                                                                           \n",
      "0  4.5  3.02765  0.001000  0.0  1023.9  0.316228   0.000008  1.843194e-07   \n",
      "1  4.5  3.02765  0.003162  0.0  1024.0  0.000000   0.000023  7.908901e-07   \n",
      "2  4.5  3.02765  0.010000  0.0  1024.0  0.000000   0.000074  3.372796e-06   \n",
      "3  4.5  3.02765  0.031623  0.0  1024.0  0.000000   0.000230  7.998089e-06   \n",
      "4  4.5  3.02765  0.100000  0.0  1024.0  0.000000   0.000742  2.053958e-05   \n",
      "5  4.5  3.02765  0.316228  0.0  1024.0  0.000000   0.002304  8.036611e-05   \n",
      "6  4.5  3.02765  1.000000  0.0  1024.0  0.000000   0.006849  1.999415e-04   \n",
      "\n",
      "  hit_l2_err                  ...    miss_l1_err           miss_l2_err  \\\n",
      "        mean           std    ...           mean       std        mean   \n",
      "i                             ...                                        \n",
      "0   0.000012  5.075567e-07    ...            NaN       NaN         NaN   \n",
      "1   0.000038  2.939073e-06    ...       0.000173  0.000122    0.000173   \n",
      "2   0.000123  1.187120e-05    ...       0.000092  0.000034    0.000101   \n",
      "3   0.000369  3.038919e-05    ...       0.000807  0.000653    0.001389   \n",
      "4   0.001242  8.598022e-05    ...       0.002317  0.001278    0.003746   \n",
      "5   0.003778  3.468880e-04    ...       0.007920  0.014201    0.022167   \n",
      "6   0.009910  3.497984e-04    ...       0.030414  0.011489    0.067574   \n",
      "\n",
      "                   l1_err                  l2_err                 max_err  \\\n",
      "        std          mean           std      mean           std      mean   \n",
      "i                                                                           \n",
      "0       NaN  4.583699e-07  7.541162e-08  0.000049  1.542423e-04  0.100103   \n",
      "1  0.000122  1.373971e-06  2.144994e-10  0.000002  1.677356e-08  0.000344   \n",
      "2  0.000043  4.344738e-06  1.018013e-09  0.000005  7.128246e-08  0.001147   \n",
      "3  0.001341  1.373939e-05  2.002471e-09  0.000017  2.796353e-07  0.004726   \n",
      "4  0.002470  4.345603e-05  3.538377e-09  0.000053  4.462445e-07  0.014798   \n",
      "5  0.056524  1.374186e-04  6.660030e-08  0.000189  7.530969e-05  0.107616   \n",
      "6  0.023718  4.347330e-04  2.293401e-07  0.000574  4.854865e-05  0.284208   \n",
      "\n",
      "             \n",
      "        std  \n",
      "i            \n",
      "0  0.316191  \n",
      "1  0.000085  \n",
      "2  0.000370  \n",
      "3  0.001908  \n",
      "4  0.003202  \n",
      "5  0.227397  \n",
      "6  0.126475  \n",
      "\n",
      "[7 rows x 22 columns]\n"
     ]
    }
   ],
   "source": [
    "print df2"
   ]
  },
  {
   "cell_type": "code",
   "execution_count": 71,
   "metadata": {
    "collapsed": true
   },
   "outputs": [],
   "source": [
    "t1 = df2[[('sigma', 'mean'), ('l1_err', 'mean'), ('l1_err', 'std')]].values\n",
    "t2 = df2[[('sigma', 'mean'), ('l2_err', 'mean'), ('l2_err', 'std')]].values\n",
    "\n",
    "plt.figure()\n",
    "plt.errorbar(t1[:,0], t1[:,1], yerr=t1[:,2], marker='o', label='l1_err')\n",
    "#plt.errorbar(t2[:,0], t2[:,1], yerr=t2[:,2], marker='x', label='l2_err')\n",
    "\n",
    "plt.xscale('log')\n",
    "plt.yscale('log')\n",
    "plt.xlabel('sigma')\n",
    "plt.ylabel('error')\n",
    "plt.legend()\n",
    "plt.grid(b=True, which='major', color='w', linewidth=1.0)\n",
    "plt.grid(b=True, which='minor', color='w', linewidth=0.5)\n",
    "#plt.show()\n",
    "plt.savefig('../report/graph/noise.eps')"
   ]
  },
  {
   "cell_type": "markdown",
   "metadata": {},
   "source": [
    "# Runtime plots\n",
    "\n",
    "There are two plots. One is fix N, vary K. The other is fix K, vary N."
   ]
  },
  {
   "cell_type": "code",
   "execution_count": 133,
   "metadata": {},
   "outputs": [
    {
     "name": "stdout",
     "output_type": "stream",
     "text": [
      "                          name    cpu_time\n",
      "0     BM_Demo1/4194301/64_mean  19196800.0\n",
      "1   BM_Demo1/4194301/64_stddev    391143.0\n",
      "2    BM_Demo1/4194301/128_mean  27718700.0\n",
      "3  BM_Demo1/4194301/128_stddev    343425.0\n",
      "4    BM_Demo1/4194301/256_mean  43247300.0\n"
     ]
    }
   ],
   "source": [
    "# Run Google benchmarks and dump to csv file. This has data for both plots.\n",
    "df = pd.read_csv('../src/results/runtime.csv')\n",
    "df = df[['name', 'cpu_time']]\n",
    "print df.head()"
   ]
  },
  {
   "cell_type": "code",
   "execution_count": 135,
   "metadata": {},
   "outputs": [
    {
     "data": {
      "text/html": [
       "<div>\n",
       "<style>\n",
       "    .dataframe thead tr:only-child th {\n",
       "        text-align: right;\n",
       "    }\n",
       "\n",
       "    .dataframe thead th {\n",
       "        text-align: left;\n",
       "    }\n",
       "\n",
       "    .dataframe tbody tr th {\n",
       "        vertical-align: top;\n",
       "    }\n",
       "</style>\n",
       "<table border=\"1\" class=\"dataframe\">\n",
       "  <thead>\n",
       "    <tr style=\"text-align: right;\">\n",
       "      <th></th>\n",
       "      <th>name</th>\n",
       "      <th>cpu_time</th>\n",
       "      <th>n</th>\n",
       "      <th>k</th>\n",
       "      <th>typ</th>\n",
       "      <th>time_sec</th>\n",
       "    </tr>\n",
       "  </thead>\n",
       "  <tbody>\n",
       "    <tr>\n",
       "      <th>0</th>\n",
       "      <td>BM_Demo1/4194301/64_mean</td>\n",
       "      <td>19196800.0</td>\n",
       "      <td>4194301</td>\n",
       "      <td>64</td>\n",
       "      <td>mean</td>\n",
       "      <td>0.019197</td>\n",
       "    </tr>\n",
       "    <tr>\n",
       "      <th>2</th>\n",
       "      <td>BM_Demo1/4194301/128_mean</td>\n",
       "      <td>27718700.0</td>\n",
       "      <td>4194301</td>\n",
       "      <td>128</td>\n",
       "      <td>mean</td>\n",
       "      <td>0.027719</td>\n",
       "    </tr>\n",
       "    <tr>\n",
       "      <th>4</th>\n",
       "      <td>BM_Demo1/4194301/256_mean</td>\n",
       "      <td>43247300.0</td>\n",
       "      <td>4194301</td>\n",
       "      <td>256</td>\n",
       "      <td>mean</td>\n",
       "      <td>0.043247</td>\n",
       "    </tr>\n",
       "    <tr>\n",
       "      <th>6</th>\n",
       "      <td>BM_Demo1/4194301/512_mean</td>\n",
       "      <td>74886500.0</td>\n",
       "      <td>4194301</td>\n",
       "      <td>512</td>\n",
       "      <td>mean</td>\n",
       "      <td>0.074886</td>\n",
       "    </tr>\n",
       "    <tr>\n",
       "      <th>8</th>\n",
       "      <td>BM_Demo1/4194301/1024_mean</td>\n",
       "      <td>141392000.0</td>\n",
       "      <td>4194301</td>\n",
       "      <td>1024</td>\n",
       "      <td>mean</td>\n",
       "      <td>0.141392</td>\n",
       "    </tr>\n",
       "  </tbody>\n",
       "</table>\n",
       "</div>"
      ],
      "text/plain": [
       "                         name     cpu_time        n     k   typ  time_sec\n",
       "0    BM_Demo1/4194301/64_mean   19196800.0  4194301    64  mean  0.019197\n",
       "2   BM_Demo1/4194301/128_mean   27718700.0  4194301   128  mean  0.027719\n",
       "4   BM_Demo1/4194301/256_mean   43247300.0  4194301   256  mean  0.043247\n",
       "6   BM_Demo1/4194301/512_mean   74886500.0  4194301   512  mean  0.074886\n",
       "8  BM_Demo1/4194301/1024_mean  141392000.0  4194301  1024  mean  0.141392"
      ]
     },
     "execution_count": 135,
     "metadata": {},
     "output_type": "execute_result"
    }
   ],
   "source": [
    "# Just processing MPSFT data first. This is used for both plots.\n",
    "label = df['name'].values\n",
    "list_n = []\n",
    "list_k = []\n",
    "list_typ = []\n",
    "for s in label:\n",
    "    toks = s.split('_')\n",
    "    assert len(toks) == 3\n",
    "    typ = toks[-1]\n",
    "    toks = toks[1].split('/')\n",
    "    assert len(toks) == 3\n",
    "    n = int(toks[1])\n",
    "    k = int(toks[2])\n",
    "    list_n.append(n)\n",
    "    list_k.append(k)\n",
    "    list_typ.append(typ)\n",
    "df['n'] = list_n\n",
    "df['k'] = list_k\n",
    "df['typ'] = list_typ\n",
    "df = df[df['typ'] == 'mean'].copy()\n",
    "df['time_sec'] = df['cpu_time'].astype(float) / 1.0e9\n",
    "df.head()"
   ]
  },
  {
   "cell_type": "markdown",
   "metadata": {},
   "source": [
    "## Fix N vary K"
   ]
  },
  {
   "cell_type": "code",
   "execution_count": 136,
   "metadata": {},
   "outputs": [
    {
     "name": "stdout",
     "output_type": "stream",
     "text": [
      "  label        n    k  snr  time_sec\n",
      "0  sfft  4194304   50  100  0.014337\n",
      "1  fftw  4194304   50  100  0.237978\n",
      "2  sfft  4194304  100  100  0.021584\n",
      "3  fftw  4194304  100  100  0.240291\n",
      "4  sfft  4194304  200  100  0.035738\n",
      "  label        n    k  snr  time_sec\n",
      "0  sfft  4194304   50  100  0.007114\n",
      "1  fftw  4194304   50  100  0.241489\n",
      "2  sfft  4194304  100  100  0.008576\n",
      "3  fftw  4194304  100  100  0.236669\n",
      "4  sfft  4194304  200  100  0.014946\n"
     ]
    }
   ],
   "source": [
    "# Run SFFT (sfft_fork). The optimized version doesn't seem to work.\n",
    "df1 = pd.read_csv('../../sfft_fork/results/vary_k_sfft1.tsv', header=None, sep='\\t')\n",
    "df2 = pd.read_csv('../../sfft_fork/results/vary_k_sfft2.tsv', header=None, sep='\\t')\n",
    "cols = ['label', 'n', 'k', 'snr', 'time_sec']\n",
    "df1.columns = cols\n",
    "df2.columns = cols\n",
    "print df1.head()\n",
    "print df2.head()"
   ]
  },
  {
   "cell_type": "code",
   "execution_count": 137,
   "metadata": {},
   "outputs": [
    {
     "name": "stdout",
     "output_type": "stream",
     "text": [
      "0.240437739898\n",
      "  label        n     k  snr  time_sec\n",
      "0  sfft  4194304    50  100  0.014337\n",
      "2  sfft  4194304   100  100  0.021584\n",
      "4  sfft  4194304   200  100  0.035738\n",
      "6  sfft  4194304   500  100  0.068100\n",
      "8  sfft  4194304  1000  100  0.112369\n"
     ]
    }
   ],
   "source": [
    "# Get FFTW running time for this fixed N.\n",
    "f1 = df1[df1['label'] == 'fftw']['time_sec']\n",
    "f2 = df2[df2['label'] == 'fftw']['time_sec']\n",
    "fftw_time = np.concatenate((f1.values, f2.values)).mean()\n",
    "df1 = df1[df1['label'] == 'sfft'].copy()\n",
    "df2 = df2[df2['label'] == 'sfft'].copy()\n",
    "print fftw_time\n",
    "print df1.head()"
   ]
  },
  {
   "cell_type": "markdown",
   "metadata": {},
   "source": [
    "Google Benchmarks measurements is 241538333 ns roughly."
   ]
  },
  {
   "cell_type": "code",
   "execution_count": 138,
   "metadata": {},
   "outputs": [
    {
     "name": "stdout",
     "output_type": "stream",
     "text": [
      "                          name     cpu_time        n     k   typ  time_sec\n",
      "32    BM_Demo1/4194301/50_mean   18051200.0  4194301    50  mean  0.018051\n",
      "0     BM_Demo1/4194301/64_mean   19196800.0  4194301    64  mean  0.019197\n",
      "2    BM_Demo1/4194301/128_mean   27718700.0  4194301   128  mean  0.027719\n",
      "4    BM_Demo1/4194301/256_mean   43247300.0  4194301   256  mean  0.043247\n",
      "6    BM_Demo1/4194301/512_mean   74886500.0  4194301   512  mean  0.074886\n",
      "8   BM_Demo1/4194301/1024_mean  141392000.0  4194301  1024  mean  0.141392\n",
      "10  BM_Demo1/4194301/2048_mean  269261000.0  4194301  2048  mean  0.269261\n",
      "12  BM_Demo1/4194301/4096_mean  521286000.0  4194301  4096  mean  0.521286\n"
     ]
    }
   ],
   "source": [
    "# Take a subset of MPSFT data.\n",
    "subdf = df[df['n'] == 4194301].copy()\n",
    "subdf.sort_values(by='k', inplace=True)\n",
    "print subdf"
   ]
  },
  {
   "cell_type": "markdown",
   "metadata": {},
   "source": [
    "No point storing the stddev. We know they are very small relative to the mean."
   ]
  },
  {
   "cell_type": "code",
   "execution_count": 139,
   "metadata": {},
   "outputs": [
    {
     "data": {
      "image/png": "[encoded data removed]",
      "text/plain": [
       "<matplotlib.figure.Figure at 0x7fd45c17cb10>"
      ]
     },
     "metadata": {},
     "output_type": "display_data"
    }
   ],
   "source": [
    "plt.figure()\n",
    "kk = np.log2(np.array(df1['k'].values))\n",
    "plt.plot(kk, fftw_time * np.ones(kk.shape), label='FFTW')\n",
    "plt.plot(kk, df1['time_sec'].values, label='SFFT1', marker='o')\n",
    "plt.plot(kk, df2['time_sec'].values, label='SFFT2', marker='s')\n",
    "plt.plot(np.log2(subdf['k'].values), subdf['time_sec'].values, label='MPSFT', marker='^')\n",
    "#plt.xscale('log')\n",
    "plt.yscale('log')\n",
    "plt.xlabel('log2(S)')\n",
    "plt.ylabel('running time/s')\n",
    "plt.grid(b=True, which='major', color='w', linewidth=1.0)\n",
    "plt.grid(b=True, which='minor', color='w', linewidth=0.5)\n",
    "plt.legend()\n",
    "fig = plt.gcf()\n",
    "fig.savefig('../report/graph/runtime_vary_k.eps')\n",
    "plt.show()"
   ]
  },
  {
   "cell_type": "markdown",
   "metadata": {},
   "source": [
    "## Fix K, vary N\n",
    "This is where we see MPSFT shine relative to SFFT1 and SFFT2."
   ]
  },
  {
   "cell_type": "code",
   "execution_count": 140,
   "metadata": {},
   "outputs": [
    {
     "name": "stdout",
     "output_type": "stream",
     "text": [
      "  label      n   k  snr  time_sec\n",
      "0  sfft   8192  50  100  0.001403\n",
      "1  fftw   8192  50  100  0.000122\n",
      "2  sfft  16384  50  100  0.001908\n",
      "3  fftw  16384  50  100  0.000265\n",
      "4  sfft  32768  50  100  0.001583\n",
      "  label      n   k  snr  time_sec\n",
      "0  sfft   8192  50  100  0.001484\n",
      "1  fftw   8192  50  100  0.000122\n",
      "2  sfft  16384  50  100  0.002111\n",
      "3  fftw  16384  50  100  0.000272\n",
      "4  sfft  32768  50  100  0.001750\n"
     ]
    }
   ],
   "source": [
    "df1 = pd.read_csv('../../sfft_fork/results/vary_n_sfft1.tsv', header=None, sep='\\t')\n",
    "df2 = pd.read_csv('../../sfft_fork/results/vary_n_sfft2.tsv', header=None, sep='\\t')\n",
    "cols = ['label', 'n', 'k', 'snr', 'time_sec']\n",
    "df1.columns = cols\n",
    "df2.columns = cols\n",
    "print df1.head()\n",
    "print df2.head()"
   ]
  },
  {
   "cell_type": "code",
   "execution_count": 141,
   "metadata": {},
   "outputs": [],
   "source": [
    "# Grab FFTW time.\n",
    "tmp1 = df1[df1['label'] == 'fftw'].copy()\n",
    "tmp2 = df2[df2['label'] == 'fftw'].copy()\n",
    "assert tmp1.shape == tmp2.shape\n",
    "assert np.max(np.abs(tmp1['n'] - tmp2['n'])) == 0\n",
    "assert np.max(np.abs(tmp1['k'] - tmp2['k'])) == 0\n",
    "fftw_n = tmp1['n'].values\n",
    "fftw_time = 0.5 * (tmp1['time_sec'] + tmp2['time_sec'])"
   ]
  },
  {
   "cell_type": "code",
   "execution_count": 142,
   "metadata": {},
   "outputs": [
    {
     "name": "stdout",
     "output_type": "stream",
     "text": [
      "  label       n   k  snr  time_sec\n",
      "0  sfft    8192  50  100  0.001403\n",
      "2  sfft   16384  50  100  0.001908\n",
      "4  sfft   32768  50  100  0.001583\n",
      "6  sfft   65536  50  100  0.002227\n",
      "8  sfft  131072  50  100  0.002424\n"
     ]
    }
   ],
   "source": [
    "# Now grab SFFT1 and SFF2 time.\n",
    "df1 = df1[df1['label'] == 'sfft'].copy()\n",
    "df2 = df2[df2['label'] == 'sfft'].copy()\n",
    "print df1.head()"
   ]
  },
  {
   "cell_type": "code",
   "execution_count": 143,
   "metadata": {},
   "outputs": [
    {
     "name": "stdout",
     "output_type": "stream",
     "text": [
      "                         name    cpu_time         n   k   typ  time_sec\n",
      "14      BM_Demo1/8191/50_mean   7791760.0      8191  50  mean  0.007792\n",
      "16     BM_Demo1/16381/50_mean   8540950.0     16381  50  mean  0.008541\n",
      "18     BM_Demo1/32771/50_mean   9184060.0     32771  50  mean  0.009184\n",
      "20     BM_Demo1/65537/50_mean   9911220.0     65537  50  mean  0.009911\n",
      "22    BM_Demo1/131071/50_mean  10770100.0    131071  50  mean  0.010770\n",
      "24    BM_Demo1/262147/50_mean  11984400.0    262147  50  mean  0.011984\n",
      "26    BM_Demo1/524287/50_mean  13715600.0    524287  50  mean  0.013716\n",
      "28   BM_Demo1/1048573/50_mean  15445400.0   1048573  50  mean  0.015445\n",
      "30   BM_Demo1/2097143/50_mean  16843100.0   2097143  50  mean  0.016843\n",
      "32   BM_Demo1/4194301/50_mean  18051200.0   4194301  50  mean  0.018051\n",
      "34   BM_Demo1/8388617/50_mean  18673200.0   8388617  50  mean  0.018673\n",
      "36  BM_Demo1/16777213/50_mean  20034100.0  16777213  50  mean  0.020034\n",
      "38  BM_Demo1/33554467/50_mean  21076200.0  33554467  50  mean  0.021076\n",
      "40  BM_Demo1/67108859/50_mean  22018800.0  67108859  50  mean  0.022019\n"
     ]
    }
   ],
   "source": [
    "# Take a subset of MPSFT data.\n",
    "subdf = df[df['k'] == 50].copy()\n",
    "subdf.sort_values(by='n', inplace=True)\n",
    "print subdf"
   ]
  },
  {
   "cell_type": "code",
   "execution_count": 144,
   "metadata": {},
   "outputs": [
    {
     "data": {
      "image/png": "[encoded data removed]",
      "text/plain": [
       "<matplotlib.figure.Figure at 0x7fd42200f050>"
      ]
     },
     "metadata": {},
     "output_type": "display_data"
    }
   ],
   "source": [
    "plt.figure()\n",
    "plt.plot(np.log2(fftw_n), fftw_time, label='FFTW', marker='*')\n",
    "plt.plot(np.log2(df1['n'].values), df1['time_sec'].values, label='SFFT1', marker='o')\n",
    "plt.plot(np.log2(df2['n'].values), df2['time_sec'].values, label='SFFT2', marker='s')\n",
    "plt.plot(np.log2(subdf['n'].values), subdf['time_sec'].values, label='MPSFT', marker='^')\n",
    "#plt.xscale('log')\n",
    "plt.yscale('log')\n",
    "plt.xlabel('log2(N)')\n",
    "plt.ylabel('running time/s')\n",
    "plt.grid(b=True, which='major', color='w', linewidth=1.0)\n",
    "plt.grid(b=True, which='minor', color='w', linewidth=0.5)\n",
    "plt.legend()\n",
    "fig = plt.gcf()\n",
    "fig.savefig('../report/graph/runtime_vary_n.eps')\n",
    "plt.show()"
   ]
  },
  {
   "cell_type": "code",
   "execution_count": null,
   "metadata": {
    "collapsed": true
   },
   "outputs": [],
   "source": []
  },
  {
   "cell_type": "code",
   "execution_count": null,
   "metadata": {
    "collapsed": true
   },
   "outputs": [],
   "source": []
  }
 ],
 "metadata": {
  "kernelspec": {
   "display_name": "Python 2",
   "language": "python",
   "name": "python2"
  },
  "language_info": {
   "codemirror_mode": {
    "name": "ipython",
    "version": 2
   },
   "file_extension": ".py",
   "mimetype": "text/x-python",
   "name": "python",
   "nbconvert_exporter": "python",
   "pygments_lexer": "ipython2",
   "version": "2.7.12"
  }
 },
 "nbformat": 4,
 "nbformat_minor": 2
}
